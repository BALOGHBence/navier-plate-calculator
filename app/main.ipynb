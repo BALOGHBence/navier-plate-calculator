{
 "cells": [
  {
   "cell_type": "markdown",
   "metadata": {},
   "source": [
    "# Plate Calculator Application"
   ]
  },
  {
   "cell_type": "code",
   "execution_count": 1,
   "metadata": {},
   "outputs": [
    {
     "name": "stdout",
     "output_type": "stream",
     "text": [
      "Library version:  2.1.0\n",
      "Python version: 3.10.11 (tags/v3.10.11:7d4cc5a, Apr  5 2023, 00:38:17) [MSC v.1929 64 bit (AMD64)]\n",
      "Operating System: Windows 10\n",
      "Platform info: Windows-10-10.0.22631-SP0\n",
      "Processor: Intel64 Family 6 Model 140 Stepping 1, GenuineIntel\n",
      "Machine: AMD64\n",
      "CPU Count: 8\n"
     ]
    }
   ],
   "source": [
    "import sys, os\n",
    "import platform\n",
    "import sigmaepsilon.solid.fourier as fourier\n",
    "\n",
    "print(\"Library version: \", fourier.__version__)\n",
    "\n",
    "# Print Python version\n",
    "print(\"Python version:\", sys.version)\n",
    "\n",
    "# Print OS information\n",
    "print(\"Operating System:\", platform.system(), platform.release())\n",
    "print(\"Platform info:\", platform.platform())\n",
    "\n",
    "# Print processor and machine architecture\n",
    "print(\"Processor:\", platform.processor())\n",
    "print(\"Machine:\", platform.machine())\n",
    "\n",
    "# Optionally, print the CPU core count\n",
    "# (works in Python 3.4+, returns None if undetermined)\n",
    "print(\"CPU Count:\", os.cpu_count())"
   ]
  },
  {
   "cell_type": "markdown",
   "metadata": {},
   "source": [
    "## Prepare job data"
   ]
  },
  {
   "cell_type": "code",
   "execution_count": 2,
   "metadata": {},
   "outputs": [],
   "source": [
    "import json, os\n",
    "\n",
    "job_data = {\n",
    "    \"_meta\": {\n",
    "        \"job_id\": \"_00000000001\",\n",
    "    },\n",
    "    \"load\": {\"position\": (350.0, 450.0), \"value\": (-50.0, 0.0, 0.0)},\n",
    "    \"geometry\": {\"width\": 100.0, \"height\": 100.0, \"thickness\": 10.0},\n",
    "    \"material\": {\n",
    "        \"youngs_modulus\": 200.0,\n",
    "        \"poissons_ratio\": 0.3,\n",
    "        \"yield_strength\": 7800.0,\n",
    "        \"density\": 7800.0,\n",
    "    },\n",
    "    \"calculation\": {\n",
    "        \"nx\": 10,\n",
    "        \"ny\": 10,\n",
    "        \"azure\": {\"storage\": {\"container_name\": \"navier\"}},\n",
    "    },\n",
    "    \"output\": {\"folder\": \"outputs\"},\n",
    "}\n",
    "\n",
    "job_data_file_path = \"outputs/\" + job_data[\"_meta\"][\"job_id\"] + \"_data.json\"\n",
    "absolute_file_path = os.path.abspath(job_data_file_path)\n",
    "job_data[\"_meta\"][\"job_data_file_path\"] = absolute_file_path\n",
    "with open(absolute_file_path, \"w\") as json_file:\n",
    "    json.dump(job_data, json_file, indent=4)"
   ]
  },
  {
   "cell_type": "markdown",
   "metadata": {},
   "source": [
    "## Prepare helper function"
   ]
  },
  {
   "cell_type": "code",
   "execution_count": 3,
   "metadata": {},
   "outputs": [],
   "source": [
    "import papermill as pm\n",
    "from nbformat import NotebookNode\n",
    "\n",
    "\n",
    "def run_notebook(input_notebook_name: str) -> NotebookNode:\n",
    "    input_notebook_path = \"tasks/\" + input_notebook_name\n",
    "    output_notebook_name = \"_\".join((job_data[\"_meta\"][\"job_id\"], input_notebook_name))\n",
    "    output_notebook_path = \"outputs/\" + output_notebook_name\n",
    "\n",
    "    execution_result: NotebookNode = pm.execute_notebook(\n",
    "        input_notebook_path,\n",
    "        output_notebook_path,\n",
    "        parameters={\n",
    "            \"job_data_file_path\": absolute_file_path,\n",
    "        },\n",
    "    )\n",
    "\n",
    "    return execution_result"
   ]
  },
  {
   "cell_type": "code",
   "execution_count": 4,
   "metadata": {},
   "outputs": [
    {
     "data": {
      "application/vnd.jupyter.widget-view+json": {
       "model_id": "9494fe1ddc2749458fadcdddc046c191",
       "version_major": 2,
       "version_minor": 0
      },
      "text/plain": [
       "Executing:   0%|          | 0/13 [00:00<?, ?cell/s]"
      ]
     },
     "metadata": {},
     "output_type": "display_data"
    },
    {
     "ename": "PapermillExecutionError",
     "evalue": "\n---------------------------------------------------------------------------\nException encountered at \"In [6]\":\n---------------------------------------------------------------------------\nAttributeError                            Traceback (most recent call last)\nCell In[6], line 2\n      1 load_case_results = results[\"LC\"].values\n----> 2 strains = results[\"LC\"].strains\n      3 z = np.linspace(-thickness / 2, thickness / 2, 20)\n      4 rng = (-thickness / 2, thickness / 2)\n\nAttributeError: 'PlateLoadCaseResultLinStat' object has no attribute 'strains'\n",
     "output_type": "error",
     "traceback": [
      "\u001b[1;31m---------------------------------------------------------------------------\u001b[0m",
      "\u001b[1;31mPapermillExecutionError\u001b[0m                   Traceback (most recent call last)",
      "Cell \u001b[1;32mIn[4], line 9\u001b[0m\n\u001b[0;32m      1\u001b[0m tasks \u001b[38;5;241m=\u001b[39m (\n\u001b[0;32m      2\u001b[0m     \u001b[38;5;124m\"\u001b[39m\u001b[38;5;124mplate_concentrated_load\u001b[39m\u001b[38;5;124m\"\u001b[39m, \u001b[38;5;66;03m# Task 1 - Plate with Concentrated Load\u001b[39;00m\n\u001b[0;32m      3\u001b[0m     \u001b[38;5;124m\"\u001b[39m\u001b[38;5;124mplot_with_pyVista\u001b[39m\u001b[38;5;124m\"\u001b[39m,       \u001b[38;5;66;03m# Task 2 - Plot with pyVista\u001b[39;00m\n\u001b[0;32m      4\u001b[0m     \u001b[38;5;66;03m#\"upload_to_azure_storage\"  # Task 3 - Upload to Azure Storage\u001b[39;00m\n\u001b[0;32m      5\u001b[0m     \u001b[38;5;124m\"\u001b[39m\u001b[38;5;124mclean_up\u001b[39m\u001b[38;5;124m\"\u001b[39m                 \u001b[38;5;66;03m# Task 4 - Clean up\u001b[39;00m\n\u001b[0;32m      6\u001b[0m )\n\u001b[0;32m      8\u001b[0m \u001b[38;5;28;01mfor\u001b[39;00m task \u001b[38;5;129;01min\u001b[39;00m tasks:\n\u001b[1;32m----> 9\u001b[0m     execution_result \u001b[38;5;241m=\u001b[39m \u001b[43mrun_notebook\u001b[49m\u001b[43m(\u001b[49m\u001b[43mtask\u001b[49m\u001b[43m \u001b[49m\u001b[38;5;241;43m+\u001b[39;49m\u001b[43m \u001b[49m\u001b[38;5;124;43m\"\u001b[39;49m\u001b[38;5;124;43m.ipynb\u001b[39;49m\u001b[38;5;124;43m\"\u001b[39;49m\u001b[43m)\u001b[49m\n\u001b[0;32m     10\u001b[0m     \u001b[38;5;28mprint\u001b[39m(\u001b[38;5;124mf\u001b[39m\u001b[38;5;124m\"\u001b[39m\u001b[38;5;124mTask \u001b[39m\u001b[38;5;132;01m{\u001b[39;00mtask\u001b[38;5;132;01m}\u001b[39;00m\u001b[38;5;124m executed successfully\u001b[39m\u001b[38;5;124m\"\u001b[39m)\n",
      "Cell \u001b[1;32mIn[3], line 10\u001b[0m, in \u001b[0;36mrun_notebook\u001b[1;34m(input_notebook_name)\u001b[0m\n\u001b[0;32m      7\u001b[0m output_notebook_name \u001b[38;5;241m=\u001b[39m \u001b[38;5;124m\"\u001b[39m\u001b[38;5;124m_\u001b[39m\u001b[38;5;124m\"\u001b[39m\u001b[38;5;241m.\u001b[39mjoin((job_data[\u001b[38;5;124m\"\u001b[39m\u001b[38;5;124m_meta\u001b[39m\u001b[38;5;124m\"\u001b[39m][\u001b[38;5;124m\"\u001b[39m\u001b[38;5;124mjob_id\u001b[39m\u001b[38;5;124m\"\u001b[39m], input_notebook_name))\n\u001b[0;32m      8\u001b[0m output_notebook_path \u001b[38;5;241m=\u001b[39m \u001b[38;5;124m\"\u001b[39m\u001b[38;5;124moutputs/\u001b[39m\u001b[38;5;124m\"\u001b[39m \u001b[38;5;241m+\u001b[39m output_notebook_name\n\u001b[1;32m---> 10\u001b[0m execution_result: NotebookNode \u001b[38;5;241m=\u001b[39m \u001b[43mpm\u001b[49m\u001b[38;5;241;43m.\u001b[39;49m\u001b[43mexecute_notebook\u001b[49m\u001b[43m(\u001b[49m\n\u001b[0;32m     11\u001b[0m \u001b[43m    \u001b[49m\u001b[43minput_notebook_path\u001b[49m\u001b[43m,\u001b[49m\n\u001b[0;32m     12\u001b[0m \u001b[43m    \u001b[49m\u001b[43moutput_notebook_path\u001b[49m\u001b[43m,\u001b[49m\n\u001b[0;32m     13\u001b[0m \u001b[43m    \u001b[49m\u001b[43mparameters\u001b[49m\u001b[38;5;241;43m=\u001b[39;49m\u001b[43m{\u001b[49m\n\u001b[0;32m     14\u001b[0m \u001b[43m        \u001b[49m\u001b[38;5;124;43m\"\u001b[39;49m\u001b[38;5;124;43mjob_data_file_path\u001b[39;49m\u001b[38;5;124;43m\"\u001b[39;49m\u001b[43m:\u001b[49m\u001b[43m \u001b[49m\u001b[43mabsolute_file_path\u001b[49m\u001b[43m,\u001b[49m\n\u001b[0;32m     15\u001b[0m \u001b[43m    \u001b[49m\u001b[43m}\u001b[49m\u001b[43m,\u001b[49m\n\u001b[0;32m     16\u001b[0m \u001b[43m\u001b[49m\u001b[43m)\u001b[49m\n\u001b[0;32m     18\u001b[0m \u001b[38;5;28;01mreturn\u001b[39;00m execution_result\n",
      "File \u001b[1;32mc:\\Users\\Bence\\AppData\\Local\\pypoetry\\Cache\\virtualenvs\\non-package-mode-fgn4td0o-py3.10\\lib\\site-packages\\papermill\\execute.py:131\u001b[0m, in \u001b[0;36mexecute_notebook\u001b[1;34m(input_path, output_path, parameters, engine_name, request_save_on_cell_execute, prepare_only, kernel_name, language, progress_bar, log_output, stdout_file, stderr_file, start_timeout, report_mode, cwd, **engine_kwargs)\u001b[0m\n\u001b[0;32m    116\u001b[0m         nb \u001b[38;5;241m=\u001b[39m papermill_engines\u001b[38;5;241m.\u001b[39mexecute_notebook_with_engine(\n\u001b[0;32m    117\u001b[0m             engine_name,\n\u001b[0;32m    118\u001b[0m             nb,\n\u001b[1;32m   (...)\u001b[0m\n\u001b[0;32m    127\u001b[0m             \u001b[38;5;241m*\u001b[39m\u001b[38;5;241m*\u001b[39mengine_kwargs,\n\u001b[0;32m    128\u001b[0m         )\n\u001b[0;32m    130\u001b[0m     \u001b[38;5;66;03m# Check for errors first (it saves on error before raising)\u001b[39;00m\n\u001b[1;32m--> 131\u001b[0m     \u001b[43mraise_for_execution_errors\u001b[49m\u001b[43m(\u001b[49m\u001b[43mnb\u001b[49m\u001b[43m,\u001b[49m\u001b[43m \u001b[49m\u001b[43moutput_path\u001b[49m\u001b[43m)\u001b[49m\n\u001b[0;32m    133\u001b[0m \u001b[38;5;66;03m# Write final output in case the engine didn't write it on cell completion.\u001b[39;00m\n\u001b[0;32m    134\u001b[0m write_ipynb(nb, output_path)\n",
      "File \u001b[1;32mc:\\Users\\Bence\\AppData\\Local\\pypoetry\\Cache\\virtualenvs\\non-package-mode-fgn4td0o-py3.10\\lib\\site-packages\\papermill\\execute.py:251\u001b[0m, in \u001b[0;36mraise_for_execution_errors\u001b[1;34m(nb, output_path)\u001b[0m\n\u001b[0;32m    248\u001b[0m nb\u001b[38;5;241m.\u001b[39mcells\u001b[38;5;241m.\u001b[39minsert(\u001b[38;5;241m0\u001b[39m, error_msg_cell)\n\u001b[0;32m    250\u001b[0m write_ipynb(nb, output_path)\n\u001b[1;32m--> 251\u001b[0m \u001b[38;5;28;01mraise\u001b[39;00m error\n",
      "\u001b[1;31mPapermillExecutionError\u001b[0m: \n---------------------------------------------------------------------------\nException encountered at \"In [6]\":\n---------------------------------------------------------------------------\nAttributeError                            Traceback (most recent call last)\nCell In[6], line 2\n      1 load_case_results = results[\"LC\"].values\n----> 2 strains = results[\"LC\"].strains\n      3 z = np.linspace(-thickness / 2, thickness / 2, 20)\n      4 rng = (-thickness / 2, thickness / 2)\n\nAttributeError: 'PlateLoadCaseResultLinStat' object has no attribute 'strains'\n"
     ]
    }
   ],
   "source": [
    "tasks = (\n",
    "    \"plate_concentrated_load\", # Task 1 - Plate with Concentrated Load\n",
    "    \"plot_with_pyVista\",       # Task 2 - Plot with pyVista\n",
    "    #\"upload_to_azure_storage\"  # Task 3 - Upload to Azure Storage\n",
    "    \"clean_up\"                 # Task 4 - Clean up\n",
    ")\n",
    "\n",
    "for task in tasks:\n",
    "    execution_result = run_notebook(task + \".ipynb\")\n",
    "    print(f\"Task {task} executed successfully\")\n",
    "    "
   ]
  }
 ],
 "metadata": {
  "kernelspec": {
   "display_name": "non-package-mode-fgn4td0o-py3.10",
   "language": "python",
   "name": "python3"
  },
  "language_info": {
   "codemirror_mode": {
    "name": "ipython",
    "version": 3
   },
   "file_extension": ".py",
   "mimetype": "text/x-python",
   "name": "python",
   "nbconvert_exporter": "python",
   "pygments_lexer": "ipython3",
   "version": "3.10.11"
  }
 },
 "nbformat": 4,
 "nbformat_minor": 2
}
